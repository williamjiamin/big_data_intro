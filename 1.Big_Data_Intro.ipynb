{
 "cells": [
  {
   "cell_type": "markdown",
   "metadata": {
    "collapsed": true,
    "pycharm": {
     "name": "#%% md\n"
    }
   },
   "source": [
    "1.判断\n",
    "4V:<br>\n",
    "1.Volume: Iot<br>\n",
    "2.Variety:Sources.(Structured, Semi-structured, unstructured data)<br>\n",
    "3.Velocity (very quick)<br>\n",
    "4.Veracity (credible & reliable data)\n"
   ]
  },
  {
   "cell_type": "markdown",
   "source": [
    "2.数据准备\n",
    "\n",
    "1）Incompleteness missing data (\"\",-,N/A,NA)\n",
    "2）Invalid data (1900/1/1)\n",
    "3）Inaccuracy (I don't know which one I like)\n",
    "4）Inconsistency (1900/1/1, 20)\n",
    "5）Duplication error\n",
    "6）Non-uniformity error(format)\n"
   ],
   "metadata": {
    "collapsed": false,
    "pycharm": {
     "name": "#%% md\n"
    }
   }
  },
  {
   "cell_type": "markdown",
   "source": [
    "3.Data Wrangling（Structured data& unstructured data）\n",
    "\n",
    "3.1.结构化信息\n",
    "\n",
    "【1】： Transformation\n",
    "\n",
    "3.1.1) Extraction\n",
    "3.1.2) Aggregation\n",
    "3.1.3) Filter(NA,Invalid)\n",
    "3.1.4) Selection\n",
    "3.1.5) Conversion\n",
    "\n",
    "【2】：Outliers\n",
    "3.2.1) Standard Deviation (3个)\n",
    "3.2.2) IQR(Inter-quartile Range)(1/4- 3/4)\n",
    "\n",
    "\n",
    "3.2.3) Trimming(data truncation)\n",
    "3.2.4) Winsorization(replace extreme value and outliers with max&min value)\n",
    "\n",
    "【3】：Scaling\n",
    "3.3.1) Normalization(对outliers敏感，即使不知道服从什么分布也可以使用) $X_i = \\frac{X_{i}- X_{min}}{X_{max}-X_{min}}$\n",
    "3.3.2) Standardization(对outliers不太敏感,normally distributed) $$X_i = \\frac{X_{i}-\\miu}{\\sigma}$$\n"
   ],
   "metadata": {
    "collapsed": false,
    "pycharm": {
     "name": "#%% md\n"
    }
   }
  },
  {
   "cell_type": "markdown",
   "source": [
    "3.2.非结构化信息：\n",
    "NLP\n",
    "\n",
    "1 text cleansing\n",
    "1）html tag去掉(<h1></h1>, <p></p>) obj.text\n",
    "2）无意义标点punctuation去除。（因为绝大多数情况下，标点对语义分析无显著提升）\n",
    "（*特殊情况，有些符号可以通过变换（加批注的方式）保留）\n",
    "¥->（/RMB/） %->(/percentage)\n",
    "3）一般来说，无意义的数字直接去除（如果你觉得很关键/number/）\n",
    "（今日开盘暴涨至8888点。\n",
    "今日开盘暴跌至8888点。）\n",
    "4）空格直接去除\n",
    "\n",
    ".......\n"
   ],
   "metadata": {
    "collapsed": false,
    "pycharm": {
     "name": "#%% md\n"
    }
   }
  },
  {
   "cell_type": "markdown",
   "source": [
    "4.数据探索（Data Exploration）\n",
    "\n",
    "4.1 结构化数据\n",
    "4.1.1 EDA(Exploratory Data Analysis)\n",
    "探索性可视化处理（histo,bar chart, box plot,density,scatter plot, line）\n",
    "\n",
    "4.1.2 特征选取（降纬） 解决overfitting\n",
    "\n",
    "4.1.2.1 选择【你认为】好的特征\n",
    "4.1.2.2 PCA\n",
    "\n",
    "4.1.3 特征工程（增加纬度）解决underfitting\n",
    "\n",
    "y = ax1 +bx2 +cx3 + .... + z\n",
    "\n",
    "(0 为高中或者以下学历\n",
    " 1 为大学本科\n",
    " 2 为研究生\n",
    " 3 为博士及以上)\n",
    "\n",
    "y = ax1 +bx2 +cx3 + .... + z\n",
    "\n",
    "(x1 是否为高中或者以下学历（1，0）\n",
    " x2 是否为大学本科（1，0）\n",
    " x3 是否为研究生（1，0）\n",
    " x4 是否为博士及以上（1，0）)"
   ],
   "metadata": {
    "collapsed": false,
    "pycharm": {
     "name": "#%% md\n"
    }
   }
  },
  {
   "cell_type": "markdown",
   "source": [
    "4.2 非结构化数据（NLP）\n",
    "\n",
    "4.2.1 EDA(Exploratory Data Analysis)\n",
    "用的比较多的方法为：wordcloud\n",
    "\n",
    "4.2.2 特征选取（降纬） 解决overfitting\n",
    "\n",
    "\n",
    "\n",
    "4.2.2.1 TF(Term Frequency)\n",
    "\n",
    "TF(Collection level) = Total Word Count / Total number of words in collection\n",
    "23456/234567 ->单词在全研究对象里的频率\n",
    "\n",
    "High TF： stop word\n",
    "Low TF: 专有名词\n",
    "\n",
    "TF(Sentence level) = Word Count in Sentence / Total of words in sentence\n",
    "2/20 ->单词在一个句子的频率\n",
    "\n",
    "IDF（Inverse Document Frequency）\n",
    "\n",
    "TF（Sentence level）-IDF（Inverse Document Frequency）\n",
    "\n",
    "1/100000000->100000000, lg100000000\n",
    "\n",
    "4.2.2.2 Chi-square Test\n",
    "\n",
    "4.2.2.3 Mutual Information\n",
    "\n",
    "P(AB) = P(A)*P(B)\n",
    "\n",
    "MI: $$MI = log \\frac{P(t,Ci)}{P(t)P(Ci)}$$\n",
    "\n",
    "MI 0 独立\n",
    "\n",
    "MI 1 关联性强\n",
    "\n",
    "\n",
    "4.2.3 特征工程（增加纬度）解决underfitting\n",
    "\n",
    "4.2.3.1 number /number/ /percent/\n",
    "4.2.3.2 N-gram(增加了特征) A B C\n",
    "\n",
    "BOW（Bag of Words）\n",
    "我 吃 包子\n",
    "包子 吃 我\n",
    "\n",
    "4.2.3.3 Name Entity Recognition (Money,Time,Org)\n",
    "乐学偶得\n",
    "\n",
    "4.2.3.4 Parts of Speech(POS) 词性标注\n"
   ],
   "metadata": {
    "collapsed": false,
    "pycharm": {
     "name": "#%% md\n"
    }
   }
  },
  {
   "cell_type": "markdown",
   "source": [
    "5.Model Training\n",
    "\n",
    "5.1 Steps\n",
    "5.1.1 监督式学习？非监督式学习？\n",
    "5.1.2 Data Type & Data Size\n",
    "5.1.3 Hyper-parameters\n",
    "\n",
    "5.2 Problems\n",
    "\n",
    "5.2.1 监督式学习不要忘了去做 train and test split\n",
    "5.2.2 Class imbalance\n",
    "Majority class : 有放回抽样 undersampled\n",
    "Minority class : 有放回抽样 oversampled\n",
    "\n",
    "6.Model Training-Performance Evaluation\n",
    "\n",
    "6.1 RMSE -> $$ \\sqrt{ \\sum \\frac{(Predicted - Actual)^2}{n} }$$\n",
    "\n",
    "6.2 Confusion Matrix\n",
    "\n",
    "6.3 ROC (AUC)\n"
   ],
   "metadata": {
    "collapsed": false,
    "pycharm": {
     "name": "#%% md\n"
    }
   }
  },
  {
   "cell_type": "code",
   "execution_count": 0,
   "outputs": [],
   "source": [],
   "metadata": {
    "collapsed": false,
    "pycharm": {
     "name": "#%%\n"
    }
   }
  }
 ],
 "metadata": {
  "kernelspec": {
   "name": "pycharm-9607c1d0",
   "language": "python",
   "display_name": "PyCharm (sklearn)"
  },
  "language_info": {
   "codemirror_mode": {
    "name": "ipython",
    "version": 2
   },
   "file_extension": ".py",
   "mimetype": "text/x-python",
   "name": "python",
   "nbconvert_exporter": "python",
   "pygments_lexer": "ipython2",
   "version": "2.7.6"
  }
 },
 "nbformat": 4,
 "nbformat_minor": 0
}